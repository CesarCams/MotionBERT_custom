{
 "cells": [
  {
   "cell_type": "code",
   "execution_count": 5,
   "metadata": {},
   "outputs": [
    {
     "data": {
      "text/plain": [
       "<torch._C.Generator at 0x10b6d7fd0>"
      ]
     },
     "execution_count": 5,
     "metadata": {},
     "output_type": "execute_result"
    }
   ],
   "source": [
    "import os\n",
    "import numpy as np\n",
    "import time\n",
    "import sys\n",
    "import argparse\n",
    "import errno\n",
    "from collections import OrderedDict\n",
    "import tensorboardX\n",
    "from tqdm import tqdm\n",
    "import random\n",
    "import seaborn as sns\n",
    "import matplotlib.pyplot as plt\n",
    "from sklearn.metrics import confusion_matrix, ConfusionMatrixDisplay\n",
    "from lib.data.dataset_surf import SurfActionDataset\n",
    "from sklearn.linear_model import LogisticRegression, LinearRegression\n",
    "from sklearn.metrics import classification_report, accuracy_score\n",
    "from torch.utils.data import DataLoader, random_split\n",
    "from sklearn.ensemble import RandomForestClassifier\n",
    "from sklearn.model_selection import GridSearchCV\n",
    "import torch\n",
    "from sklearn.svm import SVC\n",
    "from sklearn.neural_network import MLPClassifier\n",
    "import torch.nn as nn\n",
    "import torch.nn.functional as F\n",
    "import torch.optim as optim\n",
    "from torch.optim.lr_scheduler import StepLR\n",
    "from torch.utils.data import DataLoader\n",
    "import json\n",
    "from lib.utils.tools import *\n",
    "from lib.utils.learning import *\n",
    "from lib.model.loss import *\n",
    "from lib.data.dataset_action import NTURGBD\n",
    "from lib.model.model_action import ActionNet\n",
    "from sklearn.preprocessing import StandardScaler\n",
    "from train_action import *\n",
    "\n",
    "random.seed(0)\n",
    "np.random.seed(0)\n",
    "torch.manual_seed(0)"
   ]
  },
  {
   "cell_type": "code",
   "execution_count": 15,
   "metadata": {},
   "outputs": [],
   "source": [
    "import argparse\n",
    "\n",
    "def parse_args_nb(simulated_args=None):\n",
    "    parser = argparse.ArgumentParser()\n",
    "    parser.add_argument(\"--config\", type=str, default=\"configs/pretrain.yaml\", help=\"Path to the config file.\")\n",
    "    parser.add_argument('-c', '--checkpoint', default='checkpoint', type=str, metavar='PATH', help='checkpoint directory')\n",
    "    parser.add_argument('-p', '--pretrained', default='checkpoint', type=str, metavar='PATH', help='pretrained checkpoint directory')\n",
    "    parser.add_argument('-r', '--resume', default='', type=str, metavar='FILENAME', help='checkpoint to resume (file name)')\n",
    "    parser.add_argument('-e', '--evaluate', default='', type=str, metavar='FILENAME', help='checkpoint to evaluate (file name)')\n",
    "    parser.add_argument('-freq', '--print_freq', default=100)\n",
    "    parser.add_argument('-ms', '--selection', default='latest_epoch.bin', type=str, metavar='FILENAME', help='checkpoint to finetune (file name)')\n",
    "    \n",
    "    if simulated_args is not None:\n",
    "        opts = parser.parse_args(simulated_args)\n",
    "    else:\n",
    "        opts = parser.parse_args()\n",
    "    \n",
    "    return opts\n",
    "\n",
    "opts = parse_args([\n",
    "    '--config', 'configs/action/MB_ft_NTU60_xview.yaml',\n",
    "    '--pretrained', 'checkpoint/pretrain/MB_release',\n",
    "    '--checkpoint', 'checkpoint/action/FT_MB_release_MB_ft_NTU60_xview',\n",
    "    '--resume', '',\n",
    "    '--evaluate', '',\n",
    "    '--print_freq', '100',\n",
    "    '--selection', 'latest_epoch.bin'\n",
    "])\n"
   ]
  },
  {
   "cell_type": "code",
   "execution_count": null,
   "metadata": {},
   "outputs": [
    {
     "name": "stdout",
     "output_type": "stream",
     "text": [
      "{'finetune': True, 'partial_train': None, 'epochs': 50, 'batch_size': 16, 'lr_backbone': 0.0001, 'lr_head': 0.001, 'weight_decay': 0.01, 'lr_decay': 0.99, 'model_version': 'embed', 'maxlen': 243, 'dim_feat': 256, 'mlp_ratio': 2, 'depth': 5, 'dim_rep': 256, 'num_heads': 8, 'att_fuse': True, 'num_joints': 17, 'hidden_dim': 512, 'dropout_ratio': 0.5, 'dataset': 'ntu60_hrnet', 'data_split': 'xview', 'clip_len': 50, 'action_classes': 4, 'random_move': True, 'scale_range_train': [1, 3], 'scale_range_test': [2, 2], 'name': 'MB_ft_NTU60_xview'}\n",
      "Loading backbone checkpoint/pretrain/MB_release/latest_epoch.bin\n"
     ]
    },
    {
     "name": "stderr",
     "output_type": "stream",
     "text": [
      "/Users/cesarcamusemschwiller/Desktop/Surfeye/code/models_trial/MotionBERT_custom/train_action.py:115: FutureWarning: You are using `torch.load` with `weights_only=False` (the current default value), which uses the default pickle module implicitly. It is possible to construct malicious pickle data which will execute arbitrary code during unpickling (See https://github.com/pytorch/pytorch/blob/main/SECURITY.md#untrusted-models for more details). In a future release, the default value for `weights_only` will be flipped to `True`. This limits the functions that could be executed during unpickling. Arbitrary objects will no longer be allowed to be loaded via this mode unless they are explicitly allowlisted by the user via `torch.serialization.add_safe_globals`. We recommend you start setting `weights_only=True` for any use case where you don't have full control of the loaded file. Please open an issue on GitHub for any issues related to this experimental feature.\n",
      "  checkpoint = torch.load(chk_filename, map_location=lambda storage, loc: storage)['model_pos']\n"
     ]
    },
    {
     "name": "stdout",
     "output_type": "stream",
     "text": [
      "load_weight 197\n",
      "Using device: cpu\n",
      "INFO: Trainable parameter count: 12910605\n",
      "Loading dataset...\n",
      "Loaded 524 samples\n",
      "Loaded 526 samples\n",
      "INFO: Training on 33 batches\n",
      "Training epoch 0.\n"
     ]
    },
    {
     "name": "stderr",
     "output_type": "stream",
     "text": [
      "6it [01:38, 20.13s/it]"
     ]
    }
   ],
   "source": [
    "\n",
    "args = get_config(opts.config)\n",
    "train_with_config(args, opts) "
   ]
  },
  {
   "cell_type": "code",
   "execution_count": null,
   "metadata": {},
   "outputs": [],
   "source": []
  }
 ],
 "metadata": {
  "kernelspec": {
   "display_name": "base",
   "language": "python",
   "name": "python3"
  },
  "language_info": {
   "codemirror_mode": {
    "name": "ipython",
    "version": 3
   },
   "file_extension": ".py",
   "mimetype": "text/x-python",
   "name": "python",
   "nbconvert_exporter": "python",
   "pygments_lexer": "ipython3",
   "version": "3.12.7"
  }
 },
 "nbformat": 4,
 "nbformat_minor": 2
}
